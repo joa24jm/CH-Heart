{
 "cells": [
  {
   "cell_type": "markdown",
   "source": [
    "# Demographics"
   ],
   "metadata": {
    "collapsed": false
   }
  },
  {
   "cell_type": "code",
   "execution_count": 47,
   "outputs": [],
   "source": [
    "#imports\n",
    "import pandas as pd\n",
    "import geopandas as gpd\n",
    "from shapely.geometry import Point"
   ],
   "metadata": {
    "collapsed": false
   }
  },
  {
   "cell_type": "code",
   "execution_count": 2,
   "outputs": [],
   "source": [
    "# set project root\n",
    "import os\n",
    "os.chdir('../..')"
   ],
   "metadata": {
    "collapsed": false
   }
  },
  {
   "cell_type": "code",
   "execution_count": 3,
   "outputs": [],
   "source": [
    "# Important! Set project root as current working directory first\n",
    "from src.utils import get_project_root\n",
    "\n",
    "root = get_project_root()\n",
    "os.chdir(root)"
   ],
   "metadata": {
    "collapsed": false
   }
  },
  {
   "cell_type": "code",
   "execution_count": 24,
   "outputs": [],
   "source": [
    "index_col='answer_id'\n",
    "date_cols=['sensordata_collected_at']\n",
    "\n",
    "# Define a custom parser function for Unix timestamps\n",
    "date_parser = lambda x: pd.to_datetime(float(x), unit='s')\n",
    "\n",
    "# read in Baseline\n",
    "bl = pd.read_csv('data/d01_raw/rki_heart_baseline.csv', index_col=index_col)\n",
    "\n",
    "# read in FollowUp\n",
    "fu = pd.read_csv('data/d01_raw/rki_heart_followup.csv', index_col=index_col)"
   ],
   "metadata": {
    "collapsed": false
   }
  },
  {
   "cell_type": "markdown",
   "source": [
    "## General facts about the datasets\n",
    "### Baseline"
   ],
   "metadata": {
    "collapsed": false
   }
  },
  {
   "cell_type": "code",
   "execution_count": 33,
   "outputs": [
    {
     "name": "stdout",
     "output_type": "stream",
     "text": [
      "Number of users and columns:\t (1805, 88)\n"
     ]
    }
   ],
   "source": [
    "print('Number of users and columns:\\t', bl.shape)"
   ],
   "metadata": {
    "collapsed": false
   }
  },
  {
   "cell_type": "markdown",
   "source": [
    "## Distribution of demographics"
   ],
   "metadata": {
    "collapsed": false
   }
  },
  {
   "cell_type": "markdown",
   "source": [
    "### Age\n"
   ],
   "metadata": {
    "collapsed": false
   }
  },
  {
   "cell_type": "code",
   "execution_count": 40,
   "outputs": [
    {
     "data": {
      "text/plain": "geschlecht   0.0  1.0  2.0\nage_decades               \n(17, 30]     141   45    1\n(30, 40]     109   49    0\n(40, 50]      81   48    1\n(50, 60]      75   55    1\n(60, 70]      23   39    0\n(70, 80]       4    9    0\n(80, 90]       0    1    0\n(90, 120]      0    2    0",
      "text/html": "<div>\n<style scoped>\n    .dataframe tbody tr th:only-of-type {\n        vertical-align: middle;\n    }\n\n    .dataframe tbody tr th {\n        vertical-align: top;\n    }\n\n    .dataframe thead th {\n        text-align: right;\n    }\n</style>\n<table border=\"1\" class=\"dataframe\">\n  <thead>\n    <tr style=\"text-align: right;\">\n      <th>geschlecht</th>\n      <th>0.0</th>\n      <th>1.0</th>\n      <th>2.0</th>\n    </tr>\n    <tr>\n      <th>age_decades</th>\n      <th></th>\n      <th></th>\n      <th></th>\n    </tr>\n  </thead>\n  <tbody>\n    <tr>\n      <th>(17, 30]</th>\n      <td>141</td>\n      <td>45</td>\n      <td>1</td>\n    </tr>\n    <tr>\n      <th>(30, 40]</th>\n      <td>109</td>\n      <td>49</td>\n      <td>0</td>\n    </tr>\n    <tr>\n      <th>(40, 50]</th>\n      <td>81</td>\n      <td>48</td>\n      <td>1</td>\n    </tr>\n    <tr>\n      <th>(50, 60]</th>\n      <td>75</td>\n      <td>55</td>\n      <td>1</td>\n    </tr>\n    <tr>\n      <th>(60, 70]</th>\n      <td>23</td>\n      <td>39</td>\n      <td>0</td>\n    </tr>\n    <tr>\n      <th>(70, 80]</th>\n      <td>4</td>\n      <td>9</td>\n      <td>0</td>\n    </tr>\n    <tr>\n      <th>(80, 90]</th>\n      <td>0</td>\n      <td>1</td>\n      <td>0</td>\n    </tr>\n    <tr>\n      <th>(90, 120]</th>\n      <td>0</td>\n      <td>2</td>\n      <td>0</td>\n    </tr>\n  </tbody>\n</table>\n</div>"
     },
     "execution_count": 40,
     "metadata": {},
     "output_type": "execute_result"
    }
   ],
   "source": [
    "bins = [10, 14, 17, 30, 40, 50, 60, 70, 80, 90, 120]\n",
    "bl['age_decades'] = pd.cut(bl.alter, bins=bins)\n",
    "res = pd.crosstab(bl.age_decades, bl.geschlecht)\n",
    "res.to_excel('results/tables/age-by_sex.csv')\n",
    "res"
   ],
   "metadata": {
    "collapsed": false
   }
  },
  {
   "cell_type": "code",
   "execution_count": 45,
   "outputs": [
    {
     "data": {
      "text/plain": "country\nDEU    675\nAUT      3\nMEX      1\nGBR      1\nAND      1\nNLD      1\nFRA      1\nATG      1\nName: count, dtype: int64"
     },
     "execution_count": 45,
     "metadata": {},
     "output_type": "execute_result"
    }
   ],
   "source": [
    "bl.country.value_counts()"
   ],
   "metadata": {
    "collapsed": false
   }
  },
  {
   "cell_type": "code",
   "execution_count": 46,
   "outputs": [
    {
     "data": {
      "text/plain": "country\nDEU    0.986842\nAUT    0.004386\nMEX    0.001462\nGBR    0.001462\nAND    0.001462\nNLD    0.001462\nFRA    0.001462\nATG    0.001462\nName: proportion, dtype: float64"
     },
     "execution_count": 46,
     "metadata": {},
     "output_type": "execute_result"
    }
   ],
   "source": [
    "bl.country.value_counts(normalize=True)"
   ],
   "metadata": {
    "collapsed": false
   }
  }
 ],
 "metadata": {
  "kernelspec": {
   "display_name": "Python 3",
   "language": "python",
   "name": "python3"
  },
  "language_info": {
   "codemirror_mode": {
    "name": "ipython",
    "version": 2
   },
   "file_extension": ".py",
   "mimetype": "text/x-python",
   "name": "python",
   "nbconvert_exporter": "python",
   "pygments_lexer": "ipython2",
   "version": "2.7.6"
  }
 },
 "nbformat": 4,
 "nbformat_minor": 0
}
