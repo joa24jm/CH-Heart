{
 "cells": [
  {
   "cell_type": "markdown",
   "source": [
    "# Erste Analyse"
   ],
   "metadata": {
    "collapsed": false
   }
  },
  {
   "cell_type": "code",
   "execution_count": 1,
   "outputs": [],
   "source": [
    "# imports\n",
    "import pandas as pd\n",
    "import json\n",
    "import seaborn as sns\n",
    "import matplotlib.pyplot as plt"
   ],
   "metadata": {
    "collapsed": false
   }
  },
  {
   "cell_type": "code",
   "execution_count": 2,
   "outputs": [
    {
     "data": {
      "text/plain": "<IPython.core.display.HTML object>",
      "text/html": "\n<style>\n    /* Make dataframe scrollable */\n    .dataframe {\n        display: block;\n        overflow-x: auto;\n        white-space: nowrap;\n    }\n    /* Set text background to white and text color to black */\n    body {\n        background-color: white !important;\n        color: black !important;\n    }\n    /* Ensure all text elements have a white background and black text */\n    p, li, h1, h2, h3, h4, h5, h6, span, div {\n        background-color: white !important;\n        color: black !important;\n    }\n</style>\n"
     },
     "execution_count": 2,
     "metadata": {},
     "output_type": "execute_result"
    }
   ],
   "source": [
    "# export options\n",
    "pd.set_option('display.max_columns', None)\n",
    "pd.set_option('display.max_rows', None)\n",
    "\n",
    "from IPython.display import HTML\n",
    "\n",
    "HTML(\"\"\"\n",
    "<style>\n",
    "    /* Make dataframe scrollable */\n",
    "    .dataframe {\n",
    "        display: block;\n",
    "        overflow-x: auto;\n",
    "        white-space: nowrap;\n",
    "    }\n",
    "    /* Set text background to white and text color to black */\n",
    "    body {\n",
    "        background-color: white !important;\n",
    "        color: black !important;\n",
    "    }\n",
    "    /* Ensure all text elements have a white background and black text */\n",
    "    p, li, h1, h2, h3, h4, h5, h6, span, div {\n",
    "        background-color: white !important;\n",
    "        color: black !important;\n",
    "    }\n",
    "</style>\n",
    "\"\"\")"
   ],
   "metadata": {
    "collapsed": false
   }
  },
  {
   "cell_type": "code",
   "execution_count": 3,
   "outputs": [],
   "source": [
    "# Important! Set project root as current working directory\n",
    "from src.utils import get_project_root\n",
    "import os\n",
    "\n",
    "root = get_project_root()\n",
    "os.chdir(root)"
   ],
   "metadata": {
    "collapsed": false
   }
  },
  {
   "cell_type": "code",
   "execution_count": 4,
   "outputs": [],
   "source": [
    "# get file_id to read dataset\n",
    "json_file_path = 'credentials/file_ids.json'\n",
    "\n",
    "with open(json_file_path, 'r') as j:\n",
    "     file_id_bl = json.loads(j.read())['baseline']\n",
    "\n",
    "with open(json_file_path, 'r') as j:\n",
    "     file_id_fu = json.loads(j.read())['follow_up']"
   ],
   "metadata": {
    "collapsed": false
   }
  },
  {
   "cell_type": "code",
   "execution_count": null,
   "outputs": [],
   "source": [
    "# read file\n",
    "dwn_url='https://drive.google.com/uc?id='\n",
    "bl = pd.read_csv(dwn_url + file_id_bl, parse_dates=['created_at'], index_col='answer_id')\n",
    "\n",
    "fu = pd.read_csv(dwn_url + file_id_fu, parse_dates=['created_at'], index_col='answer_id')"
   ],
   "metadata": {
    "collapsed": false,
    "pycharm": {
     "is_executing": true
    }
   }
  },
  {
   "cell_type": "markdown",
   "source": [
    "## Get some baseline facts"
   ],
   "metadata": {
    "collapsed": false
   }
  },
  {
   "cell_type": "code",
   "execution_count": null,
   "outputs": [],
   "source": [
    "# n participants\n",
    "bl.user_id.nunique()"
   ],
   "metadata": {
    "collapsed": false,
    "pycharm": {
     "is_executing": true
    }
   }
  },
  {
   "cell_type": "code",
   "execution_count": null,
   "outputs": [],
   "source": [
    "# n follow-up assessments\n",
    "fu.shape[0]"
   ],
   "metadata": {
    "collapsed": false,
    "pycharm": {
     "is_executing": true
    }
   }
  },
  {
   "cell_type": "markdown",
   "source": [
    "## How many follow-up assessments over the time?"
   ],
   "metadata": {
    "collapsed": false
   }
  },
  {
   "cell_type": "code",
   "execution_count": null,
   "outputs": [],
   "source": [
    "print('Number of monthly active users in baseline')\n",
    "bl['YYYY-MM'] = bl.created_at.dt.strftime('%Y-%m')\n",
    "bl.groupby('YYYY-MM').nunique()['user_id']"
   ],
   "metadata": {
    "collapsed": false,
    "pycharm": {
     "is_executing": true
    }
   }
  },
  {
   "cell_type": "code",
   "execution_count": null,
   "outputs": [],
   "source": [
    "print('n assessments per month in follow up')\n",
    "fu['YYYY-MM'] = fu.created_at.dt.strftime('%Y-%m')\n",
    "fu['YYYY-MM'].value_counts().sort_index()"
   ],
   "metadata": {
    "collapsed": false,
    "pycharm": {
     "is_executing": true
    }
   }
  },
  {
   "cell_type": "code",
   "execution_count": null,
   "outputs": [],
   "source": [
    "print('Number of monthly active users in follow up')\n",
    "fu.groupby('YYYY-MM').nunique()['user_id']"
   ],
   "metadata": {
    "collapsed": false,
    "pycharm": {
     "is_executing": true
    }
   }
  },
  {
   "cell_type": "markdown",
   "source": [
    "## Welche Domänen (alle im Fragebogen) wurden über die Zeit wie häufig befüllt und ausgefüllt im Zeitverlauf"
   ],
   "metadata": {
    "collapsed": false
   }
  },
  {
   "cell_type": "markdown",
   "source": [
    "**Zwischen den Domänen sind keine großen Unterschiede im Zeitverlauf. Wenn es in einem Monat viele aktive Nutzer gab, dann auch in den jeweiligen Domänen. Die unten stehende Tabelle gibt die Anzahl der vorhandenen Werte in diesem Jahr und Monat (YYYY-MM) für alle Variablen an.**"
   ],
   "metadata": {
    "collapsed": false
   }
  },
  {
   "cell_type": "code",
   "execution_count": null,
   "outputs": [],
   "source": [
    "bl['YYYY-MM'] = bl.created_at.dt.strftime('%Y-%m')\n",
    "res = bl.groupby('YYYY-MM').apply(lambda x: x.notnull().sum())\n",
    "# res.to_excel('results/first_glance/non_null_count_per_month_and_variable.xlsx')\n",
    "res"
   ],
   "metadata": {
    "collapsed": false,
    "pycharm": {
     "is_executing": true
    }
   }
  },
  {
   "cell_type": "markdown",
   "source": [
    "## Height distribution"
   ],
   "metadata": {
    "collapsed": false
   }
  },
  {
   "cell_type": "code",
   "execution_count": null,
   "outputs": [],
   "source": [
    "sns.displot(data=bl, x=\"heigh\", kind=\"kde\")\n",
    "plt.show()\n",
    "\n",
    "bl.groupby('geschlecht').describe()['heigh']"
   ],
   "metadata": {
    "collapsed": false,
    "pycharm": {
     "is_executing": true
    }
   }
  },
  {
   "cell_type": "markdown",
   "source": [
    "## Weight distribution"
   ],
   "metadata": {
    "collapsed": false
   }
  },
  {
   "cell_type": "code",
   "execution_count": null,
   "outputs": [],
   "source": [
    "sns.displot(data=bl, x=\"weigh1\", kind=\"kde\")\n",
    "plt.show()\n",
    "\n",
    "bl.groupby('geschlecht').describe()['weigh1']"
   ],
   "metadata": {
    "collapsed": false,
    "pycharm": {
     "is_executing": true
    }
   }
  },
  {
   "cell_type": "markdown",
   "source": [
    "## Sensor and app data"
   ],
   "metadata": {
    "collapsed": false
   }
  },
  {
   "cell_type": "code",
   "execution_count": null,
   "outputs": [],
   "source": [
    "print('n Geographical data in baseline:\\t', bl.sensordata_altitude.notnull().sum())\n",
    "print()\n",
    "print('tracking permission ratio:', bl.sensordata_altitude.notnull().sum()/bl.shape[0])\n",
    "print('------------------------------------------------')\n",
    "print('n Geographical data in followup:\\t', fu.sensordata_altitude.notnull().sum())\n",
    "print()\n",
    "print('tracking permission ratio: \\t', fu.sensordata_altitude.notnull().sum()/fu.shape[0])"
   ],
   "metadata": {
    "collapsed": false,
    "pycharm": {
     "is_executing": true
    }
   }
  },
  {
   "cell_type": "code",
   "execution_count": null,
   "outputs": [],
   "source": [
    "print('n permissions apps tracking in baseline:\\t', bl.sensordata_apps.notnull().sum())\n",
    "print()\n",
    "print('tracking permission ratio', bl.sensordata_apps.notnull().sum()/bl.shape[0])\n",
    "print('------------------------------------------------')\n",
    "print('n permissions apps tracking in followup:\\t', fu.sensordata_apps.notnull().sum())\n",
    "print()\n",
    "print('tracking permission ratio: \\t', fu.sensordata_apps.notnull().sum()/fu.shape[0])"
   ],
   "metadata": {
    "collapsed": false,
    "pycharm": {
     "is_executing": true
    }
   }
  },
  {
   "cell_type": "code",
   "execution_count": null,
   "outputs": [],
   "source": [
    "!jupyter nbconvert --to html --no-input src/d01_analyse/RQ1/Analyse.ipynb"
   ],
   "metadata": {
    "collapsed": false,
    "pycharm": {
     "is_executing": true
    }
   }
  },
  {
   "cell_type": "code",
   "execution_count": null,
   "outputs": [],
   "source": [],
   "metadata": {
    "collapsed": false,
    "pycharm": {
     "is_executing": true
    }
   }
  }
 ],
 "metadata": {
  "kernelspec": {
   "display_name": "Python 3",
   "language": "python",
   "name": "python3"
  },
  "language_info": {
   "codemirror_mode": {
    "name": "ipython",
    "version": 2
   },
   "file_extension": ".py",
   "mimetype": "text/x-python",
   "name": "python",
   "nbconvert_exporter": "python",
   "pygments_lexer": "ipython2",
   "version": "2.7.6"
  }
 },
 "nbformat": 4,
 "nbformat_minor": 0
}
